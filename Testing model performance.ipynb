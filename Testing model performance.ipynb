{
 "cells": [
  {
   "cell_type": "code",
   "execution_count": 1,
   "id": "1934b816",
   "metadata": {},
   "outputs": [
    {
     "name": "stdout",
     "output_type": "stream",
     "text": [
      "0.7854414458365176\n",
      "Train Accuracy for rf : 1.0 \n",
      "\n",
      "Test Accuracy for rf : 0.73789 \n",
      "\n",
      "TrainS Accuracy for rf : 0.00379 \n",
      "\n",
      "TestS Accuracy for rf : 0.00365 \n",
      "\n"
     ]
    },
    {
     "data": {
      "image/png": "[encoded data removed]",
      "text/plain": [
       "<Figure size 432x288 with 1 Axes>"
      ]
     },
     "metadata": {
      "needs_background": "light"
     },
     "output_type": "display_data"
    }
   ],
   "source": [
    "import numpy as np \n",
    "import matplotlib.pyplot as plt\n",
    "import pandas as pd  \n",
    "import seaborn as sns\n",
    "from sklearn.preprocessing import OneHotEncoder\n",
    "\n",
    "\n",
    "\n",
    "from sklearn.metrics import confusion_matrix, plot_confusion_matrix,classification_report,accuracy_score,roc_auc_score,roc_curve\n",
    "\n",
    "from sklearn.preprocessing import StandardScaler,MinMaxScaler\n",
    "from sklearn.model_selection import train_test_split\n",
    "from sklearn.model_selection import cross_val_score\n",
    "import warnings\n",
    "warnings.filterwarnings(\"ignore\")\n",
    "\n",
    "from sklearn.linear_model import LinearRegression\n",
    "from sklearn.linear_model import LogisticRegression\n",
    "from sklearn.svm import SVC\n",
    "from sklearn.naive_bayes import GaussianNB\n",
    "from sklearn.neighbors import KNeighborsClassifier\n",
    "from sklearn.tree import DecisionTreeClassifier\n",
    "from sklearn.ensemble import RandomForestClassifier\n",
    "from xgboost import XGBClassifier, XGBRFClassifier\n",
    "from sklearn.ensemble import AdaBoostClassifier\n",
    "from xgboost import plot_tree, plot_importance\n",
    "from sklearn.ensemble import GradientBoostingClassifier\n",
    "\n",
    "from sklearn.model_selection import GridSearchCV\n",
    "    \n",
    "# Importing the dataset  \n",
    "df = pd.read_csv('train.csv')\n",
    "df.drop(df.columns[1], axis=1, inplace=True)\n",
    "df.drop(df.columns[2:4], axis=1, inplace=True)\n",
    "df=df.dropna()\n",
    "df1=df[\"Offer %\"].str.replace(\"%\",\"\")\n",
    "df1\n",
    "df['Offer %'] = df1\n",
    "df.isnull().sum()\n",
    "sns.heatmap(df.isnull(),yticklabels=False,cbar=False,cmap='viridis')\n",
    "\n",
    "\n",
    "# test = pd.read_csv('test.csv')\n",
    "# test.drop(X_test.columns[1], axis=1, inplace=True)\n",
    "# test\n",
    "# test.drop(X_test.columns[2:4], axis=1, inplace=True)\n",
    "# test.head()\n",
    "\n",
    "# sns.heatmap(X_test.isnull(),yticklabels=False,cbar=False,cmap='viridis')\n",
    "\n",
    "col_transform = [col for col in df.columns if col not in ['price1']]\n",
    "X = df[col_transform]\n",
    "y = df['price1']\n",
    "\n",
    "# features = ['id', 'Rating', 'actprice1', 'norating1',\n",
    "#        'noreviews1', 'star_5f', 'star_4f', 'star_3f', 'star_2f', 'star_1f',\n",
    "#        'fulfilled1']\n",
    "\n",
    "X_train, X_test, y_train, y_test = train_test_split(X, y, test_size=0.33)\n",
    "\n",
    "\n",
    "\n",
    "# X_test['Rating'].fillna(X_test['Rating'].value_counts().index[0], inplace = True)\n",
    "# X_test['star_5f'].fillna(X_test['star_5f'].value_counts().index[0], inplace = True)\n",
    "# X_test['star_1f'].fillna(X_test['star_1f'].value_counts().index[0], inplace = True)\n",
    "df['Rating'].fillna(df['Rating'].median(),inplace=True)\n",
    "df['star_5f'].fillna(df['star_5f'].median(),inplace=True)\n",
    "df['star_1f'].fillna(df['star_1f'].median(),inplace=True)\n",
    "\n",
    "scaler=StandardScaler()\n",
    "X_trainS=pd.DataFrame(scaler.fit_transform(X_train),columns=X_train.columns)\n",
    "X_testS=scaler.transform(X_test)\n",
    "\n",
    "\n",
    
    "\n",
    "\n",
    "# model= DecisionTreeClassifier(class_weight=None, criterion='gini', max_depth=70,\n",
    "#  max_features=None, max_leaf_nodes=None,\n",
    "#   min_samples_leaf=1,\n",
    "#  min_samples_split=2, min_weight_fraction_leaf=0.0,\n",
    "#  random_state=1, splitter='best')\n",
    "# Train Accuracy for rf : 1.0 \n",
    "\n",
    "# Test Accuracy for rf : 0.82542 \n",
    "\n",
    "# TrainS Accuracy for rf : 0.00033 \n",
    "\n",
    "# TestS Accuracy for rf : 0.00033 \n",
    "    \n",
    "\n",
    "\n",
    "from sklearn.model_selection import StratifiedKFold\n",
    "skfold=StratifiedKFold(n_splits=5)\n",
    "model=DecisionTreeClassifier()\n",
    "scores=cross_val_score(model,X,y,cv=skfold)\n",
    "print(np.mean(scores))\n",
    "\n",

    "\n",
    "model.fit(X_train,y_train)\n",
    "\n",
    "pred_train=model.predict(X_train)\n",
    "preds = model.predict(X_test)\n",
    "\n",
    "\n",
    "accuracy_train = round(accuracy_score(y_train, pred_train), 5)\n",
    "accuracy_test = round(accuracy_score(y_test, preds), 5)\n",
    "print('Train Accuracy for rf',  ':', accuracy_train, '\\n')\n",
    "print('Test Accuracy for rf',  ':', accuracy_test, '\\n')\n",
    "\n",
    "pred_train=model.predict(X_trainS)\n",
    "preds = model.predict(X_testS)\n",
    "accuracy_train = round(accuracy_score(y_train, pred_train), 5)\n",
    "accuracy_test = round(accuracy_score(y_test, preds), 5)\n",
    "print('TrainS Accuracy for rf',  ':', accuracy_train, '\\n')\n",
    "print('TestS Accuracy for rf',  ':', accuracy_test, '\\n')\n",
    "    \n",
    "\n",
    "\n",
    "\n",
    "\n",
    "# model= RandomForestClassifier(n_estimators=1100,max_depth=20,random_state=0)\n",
    "\n",
    "\n",
    "# model= XGBClassifier(n_estimators=1000,learning_rate=0.01)\n",
    "\n",
    "# model = XGBRFClassifier(n_estimators=1000, subsample=0.8, colsample_bynode=0.7)\n",
    "\n",
    " \n",
    "  \n",
    "  \n",
    "\n",
    "\n",
    "# make predictions which we will submit. \n"
   ]
  },
  {
   "cell_type": "code",
   "execution_count": null,
   "id": "19e11408",
   "metadata": {},
   "outputs": [],
   "source": [
    "\n"
   ]
  },
  {
   "cell_type": "code",
   "execution_count": 2,
   "id": "d911f2b0",
   "metadata": {},
   "outputs": [],
   "source": [
    "# output = pd.DataFrame({'prediction': y_test})\n",
    "\n",
    "# output['prediction'] = output['prediction'].astype(int)\n",
    "# output.to_csv('mysubmission1.csv', index=False)"
   ]
  },
  {
   "cell_type": "code",
   "execution_count": 3,
   "id": "236ed660",
   "metadata": {},
   "outputs": [],
   "source": [
    "# df = pd.read_csv('mysubmission1.csv')\n",
    "# df"
   ]
  },
  {
   "cell_type": "code",
   "execution_count": 4,
   "id": "2e56da90",
   "metadata": {},
   "outputs": [],
   "source": [
    "# df['prediction'].value_counts()"
   ]
  },
  {
   "cell_type": "code",
   "execution_count": 5,
   "id": "6f3295ba",
   "metadata": {},
   "outputs": [],
   "source": [
    "# df_pred = pd.DataFrame(preds, index=df_test.index, columns=['predictions'])\n",
    "# df_pred"
   ]
  },
  {
   "cell_type": "code",
   "execution_count": null,
   "id": "1baa90fa",
   "metadata": {},
   "outputs": [],
   "source": []
  },
  {
   "cell_type": "code",
   "execution_count": 6,
   "id": "8ce8050d",
   "metadata": {},
   "outputs": [
    {
     "data": {
      "text/plain": [
       "Index(['id', 'Rating', 'price1', 'actprice1', 'Offer %', 'norating1',\n",
       "       'noreviews1', 'star_5f', 'star_4f', 'star_3f', 'star_2f', 'star_1f',\n",
       "       'fulfilled1'],\n",
       "      dtype='object')"
      ]
     },
     "execution_count": 6,
     "metadata": {},
     "output_type": "execute_result"
    }
   ],
   "source": [
    "df.columns"
   ]
  },
  {
   "cell_type": "code",
   "execution_count": null,
   "id": "3edc25a5",
   "metadata": {},
   "outputs": [],
   "source": []
  }
 ],
 "metadata": {
  "kernelspec": {
   "display_name": "Python 3",
   "language": "python",
   "name": "python3"
  },
  "language_info": {
   "codemirror_mode": {
    "name": "ipython",
    "version": 3
   },
   "file_extension": ".py",
   "mimetype": "text/x-python",
   "name": "python",
   "nbconvert_exporter": "python",
   "pygments_lexer": "ipython3",
   "version": "3.8.8"
  }
 },
 "nbformat": 4,
 "nbformat_minor": 5
}
